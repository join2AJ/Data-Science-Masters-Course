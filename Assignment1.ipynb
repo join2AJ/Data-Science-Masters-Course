{
 "cells": [
  {
   "cell_type": "code",
   "source": "#-----Start",
   "metadata": {
    "cell_id": "357b1f0aa60547af85e998999c8bb1fc",
    "tags": [],
    "deepnote_to_be_reexecuted": false,
    "source_hash": "b1a05b24",
    "execution_start": 1649971449459,
    "execution_millis": 3,
    "deepnote_cell_type": "code",
    "deepnote_cell_height": 81
   },
   "outputs": [],
   "execution_count": 22
  },
  {
   "cell_type": "code",
   "metadata": {
    "tags": [],
    "cell_id": "9c3056e9-6252-4090-b63b-e48c71643e6e",
    "deepnote_to_be_reexecuted": false,
    "source_hash": "49b32665",
    "execution_start": 1649968943470,
    "execution_millis": 4,
    "deepnote_cell_type": "code",
    "deepnote_cell_height": 81
   },
   "source": "#-----1",
   "execution_count": 1,
   "outputs": []
  },
  {
   "cell_type": "markdown",
   "source": "1. In the below elements which of them are values or an expression? eg:- values can be\ninteger or string and expressions will be mathematical operators.\n*\n'hello'\n-87.8\n-\n/\n+\n6",
   "metadata": {
    "cell_id": "26ed2c45050d455f866c15dddc4745ea",
    "tags": [],
    "is_collapsed": false,
    "deepnote_cell_type": "text-cell-p"
   }
  },
  {
   "cell_type": "markdown",
   "source": "\n\nValues: \n    \n    'hello', -87.8, 6\n\nExpression: \n    \n    An “expression” is a combination of operators, operands that are interpreted by the compiler to create a new value, all expressions return values\n\nOperators: \n    \n    *, -, /, +",
   "metadata": {
    "cell_id": "23b1cc1209344c409d3c45f0a119c49a",
    "tags": [],
    "deepnote_cell_type": "markdown",
    "deepnote_cell_height": 282.359375
   }
  },
  {
   "cell_type": "code",
   "source": "#-----2",
   "metadata": {
    "cell_id": "5623ca3772894490abc20a83ca5fd203",
    "tags": [],
    "deepnote_to_be_reexecuted": false,
    "source_hash": "1200bfbf",
    "execution_start": 1649968945546,
    "execution_millis": 1,
    "deepnote_cell_type": "code",
    "deepnote_cell_height": 81
   },
   "outputs": [],
   "execution_count": 2
  },
  {
   "cell_type": "markdown",
   "source": "2. What is the difference between string and variable?",
   "metadata": {
    "cell_id": "1f824c35b7c3483fb9df773809bba476",
    "tags": [],
    "is_collapsed": false,
    "deepnote_cell_type": "text-cell-p"
   }
  },
  {
   "cell_type": "markdown",
   "source": "\n\nString: \n    \n    Any alphanumeric or characters more than one, known as string\n    In coding single, double quotes are used for storing string [Single quotes - Compilier reads expressions, if any]\n\nVariable: \n\n    are strings which stores any information\n    Every programming languages has its declaration and initialization rules associated with them",
   "metadata": {
    "cell_id": "ce9c6a9012b8434ebca18e5ea26c7173",
    "tags": [],
    "deepnote_cell_type": "markdown",
    "deepnote_cell_height": 246.765625
   }
  },
  {
   "cell_type": "code",
   "source": "#-----3",
   "metadata": {
    "cell_id": "bcccd2e877674de196fab9a8c72c24c5",
    "tags": [],
    "deepnote_cell_type": "code",
    "deepnote_cell_height": 66
   },
   "outputs": [],
   "execution_count": null
  },
  {
   "cell_type": "markdown",
   "source": "3. Describe three different data types.",
   "metadata": {
    "cell_id": "45c3b3e84cf8486d9553f0884a2da521",
    "tags": [],
    "is_collapsed": false,
    "deepnote_cell_type": "text-cell-p"
   }
  },
  {
   "cell_type": "markdown",
   "source": "\n\nint, string, float, char, boolean\n\n    Integer stores numeric values\n    String stores text\n    float stores floating value\n    char stores single character\n    boolean stores Yes or No [1,0]\n\n",
   "metadata": {
    "cell_id": "a4a8df7eb8514d08a71fc606667a42c6",
    "tags": [],
    "deepnote_cell_type": "markdown",
    "deepnote_cell_height": 190.375
   }
  },
  {
   "cell_type": "code",
   "source": "#-----4",
   "metadata": {
    "cell_id": "23d48db9dfce46f0a1577bf251a00be6",
    "tags": [],
    "deepnote_to_be_reexecuted": false,
    "source_hash": "e17985c7",
    "execution_start": 1649969856564,
    "execution_millis": 1,
    "deepnote_cell_type": "code",
    "deepnote_cell_height": 81
   },
   "outputs": [],
   "execution_count": 5
  },
  {
   "cell_type": "markdown",
   "source": "4. What is an expression made up of? What do all expressions do?",
   "metadata": {
    "cell_id": "862e78f492be46df828717d4946706ff",
    "tags": [],
    "is_collapsed": false,
    "deepnote_cell_type": "text-cell-p"
   }
  },
  {
   "cell_type": "markdown",
   "source": "\n    An “expression” is a combination of operators, operands that are interpreted by the compiler to create a new value, all expressions return values",
   "metadata": {
    "cell_id": "2bcb00490cc64b3eb48b8490d303983a",
    "tags": [],
    "deepnote_cell_type": "markdown",
    "deepnote_cell_height": 91.59375
   }
  },
  {
   "cell_type": "code",
   "source": "#-----5",
   "metadata": {
    "cell_id": "25295b200b674b2381bad3038d6bc5d6",
    "tags": [],
    "deepnote_to_be_reexecuted": false,
    "source_hash": "eb9e8836",
    "execution_start": 1649969973698,
    "execution_millis": 0,
    "deepnote_cell_type": "code",
    "deepnote_cell_height": 81
   },
   "outputs": [],
   "execution_count": 6
  },
  {
   "cell_type": "markdown",
   "source": "5. This assignment statements, like spam = 10. What is the difference between an\nexpression and a statement?",
   "metadata": {
    "cell_id": "39c91280a2c7441a8594ed11d4160b1e",
    "tags": [],
    "is_collapsed": false,
    "deepnote_cell_type": "text-cell-p"
   }
  },
  {
   "cell_type": "markdown",
   "source": "\n    Statement will have single operator i.e =\n    Expression will not have single operator '=', they might have one or more operators and operand",
   "metadata": {
    "cell_id": "7f0afd0d6c7349928fe29dfa4dd82112",
    "tags": [],
    "deepnote_cell_type": "markdown",
    "deepnote_cell_height": 91.59375
   }
  },
  {
   "cell_type": "code",
   "source": "#-----6",
   "metadata": {
    "cell_id": "ff2afa4b9efd428ea4206aba0cc258c2",
    "tags": [],
    "deepnote_to_be_reexecuted": false,
    "source_hash": "4972847c",
    "execution_start": 1649970372628,
    "execution_millis": 0,
    "deepnote_cell_type": "code",
    "deepnote_cell_height": 81
   },
   "outputs": [],
   "execution_count": 7
  },
  {
   "cell_type": "markdown",
   "source": "6. After running the following code, what does the variable bacon contain?\nbacon = 22\nbacon + 1",
   "metadata": {
    "cell_id": "2b859489809f4a389829d8a71f124024",
    "tags": [],
    "is_collapsed": false,
    "deepnote_cell_type": "text-cell-p"
   }
  },
  {
   "cell_type": "code",
   "source": "bacon = 22\nbacon + 1\nbacon",
   "metadata": {
    "cell_id": "2215657981b14956b8b52abcb8018908",
    "tags": [],
    "deepnote_to_be_reexecuted": false,
    "source_hash": "c7a29336",
    "execution_start": 1649970394544,
    "execution_millis": 5,
    "deepnote_cell_type": "code",
    "deepnote_cell_height": 154.1875,
    "deepnote_output_heights": [
     21.1875
    ]
   },
   "outputs": [
    {
     "output_type": "execute_result",
     "execution_count": 8,
     "data": {
      "text/plain": "22"
     },
     "metadata": {}
    }
   ],
   "execution_count": 8
  },
  {
   "cell_type": "markdown",
   "source": "\n    We are not assigning bacon +1 to any variable and hence bacon value will remain 22 as it was before",
   "metadata": {
    "cell_id": "b508a26f098b451fa36b719f443a193b",
    "tags": [],
    "deepnote_cell_type": "markdown",
    "deepnote_cell_height": 70.796875
   }
  },
  {
   "cell_type": "code",
   "source": "#-----7",
   "metadata": {
    "cell_id": "512aa8d3ffe145758ff9c84947e33e47",
    "tags": [],
    "deepnote_to_be_reexecuted": false,
    "source_hash": "448fd8d9",
    "execution_start": 1649970482942,
    "execution_millis": 1,
    "deepnote_cell_type": "code",
    "deepnote_cell_height": 81
   },
   "outputs": [],
   "execution_count": 9
  },
  {
   "cell_type": "markdown",
   "source": "7. What should the values of the following two terms be?\n'spam'+ 'spamspam'\n'spam' * 3",
   "metadata": {
    "cell_id": "150894553d4a4d17a93799fa02f32e9e",
    "tags": [],
    "is_collapsed": false,
    "deepnote_cell_type": "text-cell-p"
   }
  },
  {
   "cell_type": "code",
   "source": "'spam'+ 'spamspam'",
   "metadata": {
    "cell_id": "0d9acccbce204568ac50233da966e7c4",
    "tags": [],
    "deepnote_to_be_reexecuted": false,
    "source_hash": "8258caaa",
    "execution_start": 1649970958523,
    "execution_millis": 2,
    "deepnote_cell_type": "code",
    "deepnote_cell_height": 118.1875,
    "deepnote_output_heights": [
     21.1875
    ]
   },
   "outputs": [
    {
     "output_type": "execute_result",
     "execution_count": 13,
     "data": {
      "text/plain": "'spamspamspam'"
     },
     "metadata": {}
    }
   ],
   "execution_count": 13
  },
  {
   "cell_type": "code",
   "source": "'spam' * 3",
   "metadata": {
    "cell_id": "672ac9e33d334910b6a1976f6c9ef96c",
    "tags": [],
    "deepnote_to_be_reexecuted": false,
    "source_hash": "5d91286b",
    "execution_start": 1649970959979,
    "execution_millis": 20,
    "deepnote_cell_type": "code",
    "deepnote_cell_height": 118.1875,
    "deepnote_output_heights": [
     21.1875
    ]
   },
   "outputs": [
    {
     "output_type": "execute_result",
     "execution_count": 14,
     "data": {
      "text/plain": "'spamspamspam'"
     },
     "metadata": {}
    }
   ],
   "execution_count": 14
  },
  {
   "cell_type": "markdown",
   "source": "\n'spam'+ 'spamspam'\n\n    'spamspamspam'\n    \n'spam' * 3\n\n    'spamspamspam'",
   "metadata": {
    "cell_id": "1c96cb2e1f834338b08edd9a6c25a6fe",
    "tags": [],
    "deepnote_cell_type": "markdown",
    "deepnote_cell_height": 184.375
   }
  },
  {
   "cell_type": "code",
   "source": "#-----8",
   "metadata": {
    "cell_id": "fc29898ea1544a528a3c94748aecb9e9",
    "tags": [],
    "deepnote_to_be_reexecuted": false,
    "source_hash": "d4d27b07",
    "execution_start": 1649970982848,
    "execution_millis": 1,
    "deepnote_cell_type": "code",
    "deepnote_cell_height": 81
   },
   "outputs": [],
   "execution_count": 15
  },
  {
   "cell_type": "markdown",
   "source": "8. Why is eggs a valid variable name while 100 is invalid?",
   "metadata": {
    "cell_id": "c8acd8e8846d4e3ea1d0a4b500f3a8f6",
    "tags": [],
    "is_collapsed": false,
    "deepnote_cell_type": "text-cell-p"
   }
  },
  {
   "cell_type": "markdown",
   "source": "Valid Variable\n\n    1st char in 'eggs' is character and not numeric or symbol\n    were as '100' first char is numeric and hence it is not a valid variable name",
   "metadata": {
    "cell_id": "d0cbbb31c5434abca6c46b719497382c",
    "tags": [],
    "deepnote_cell_type": "markdown",
    "deepnote_cell_height": 127.984375
   }
  },
  {
   "cell_type": "code",
   "source": "#-----9",
   "metadata": {
    "cell_id": "c5993d3fbc8d4c05bbc2e7b3333b0493",
    "tags": [],
    "deepnote_to_be_reexecuted": false,
    "source_hash": "e19120cb",
    "execution_start": 1649971183758,
    "execution_millis": 0,
    "deepnote_cell_type": "code",
    "deepnote_cell_height": 81
   },
   "outputs": [],
   "execution_count": 16
  },
  {
   "cell_type": "markdown",
   "source": "9. What three functions can be used to get the integer, floating-point number, or string\nversion of a value?",
   "metadata": {
    "cell_id": "aadf4b963c504af18e27eb189ad3971e",
    "tags": [],
    "is_collapsed": false,
    "deepnote_cell_type": "text-cell-p"
   }
  },
  {
   "cell_type": "markdown",
   "source": "\n     int(value), float(value), str(value)",
   "metadata": {
    "cell_id": "45273f13b0ba49a9953e1f4b7c623f61",
    "tags": [],
    "deepnote_cell_type": "markdown",
    "deepnote_cell_height": 70.796875
   }
  },
  {
   "cell_type": "code",
   "source": "#-----10",
   "metadata": {
    "cell_id": "da083dcb7f264ccda0c2d9e5868cf080",
    "tags": [],
    "deepnote_to_be_reexecuted": false,
    "source_hash": "1d0157f8",
    "execution_start": 1649971324502,
    "execution_millis": 1,
    "deepnote_cell_type": "code",
    "deepnote_cell_height": 81
   },
   "outputs": [],
   "execution_count": 18
  },
  {
   "cell_type": "markdown",
   "source": "10. Why does this expression cause an error? How can you fix it?\n'I have eaten ' + 99 + ' burritos.'",
   "metadata": {
    "cell_id": "303167df223d48c9911eb53c193fa184",
    "tags": [],
    "is_collapsed": false,
    "deepnote_cell_type": "text-cell-p"
   }
  },
  {
   "cell_type": "code",
   "source": "'I have eaten ' + 99 + ' burritos.'",
   "metadata": {
    "cell_id": "ef94d513c17c42a8b3f118a921791fb4",
    "tags": [],
    "deepnote_to_be_reexecuted": false,
    "source_hash": "3f650c54",
    "execution_start": 1649971333740,
    "execution_millis": 119,
    "deepnote_cell_type": "code",
    "deepnote_cell_height": 144.1875
   },
   "outputs": [
    {
     "output_type": "error",
     "ename": "TypeError",
     "evalue": "can only concatenate str (not \"int\") to str",
     "traceback": [
      "\u001b[0;31m---------------------------------------------------------------------------\u001b[0m",
      "\u001b[0;31mTypeError\u001b[0m                                 Traceback (most recent call last)",
      "\u001b[0;32m<ipython-input-19-d24137131a5c>\u001b[0m in \u001b[0;36m<module>\u001b[0;34m\u001b[0m\n\u001b[0;32m----> 1\u001b[0;31m \u001b[0;34m'I have eaten '\u001b[0m \u001b[0;34m+\u001b[0m \u001b[0;36m99\u001b[0m \u001b[0;34m+\u001b[0m \u001b[0;34m' burritos.'\u001b[0m\u001b[0;34m\u001b[0m\u001b[0;34m\u001b[0m\u001b[0m\n\u001b[0m",
      "\u001b[0;31mTypeError\u001b[0m: can only concatenate str (not \"int\") to str"
     ]
    }
   ],
   "execution_count": 19
  },
  {
   "cell_type": "markdown",
   "source": "\n    Above code causes error because the statements cannot able to convert an integer to string and hence 99 needs to be converted in string by using str() function",
   "metadata": {
    "cell_id": "412f2aeb32e348848ab9b2109f8b9736",
    "tags": [],
    "deepnote_cell_type": "markdown",
    "deepnote_cell_height": 91.59375
   }
  },
  {
   "cell_type": "code",
   "source": "'I have eaten ' + str(99) + ' burritos.'",
   "metadata": {
    "cell_id": "2ec1d112ed0a4aaa8f4c2582fb2f2cbb",
    "tags": [],
    "deepnote_to_be_reexecuted": false,
    "source_hash": "36570207",
    "execution_start": 1649971426722,
    "execution_millis": 28,
    "deepnote_cell_type": "code",
    "deepnote_cell_height": 118.1875,
    "deepnote_output_heights": [
     21.1875
    ]
   },
   "outputs": [
    {
     "output_type": "execute_result",
     "execution_count": 21,
     "data": {
      "text/plain": "'I have eaten 99 burritos.'"
     },
     "metadata": {}
    }
   ],
   "execution_count": 21
  },
  {
   "cell_type": "code",
   "source": "#-----End",
   "metadata": {
    "cell_id": "dd4a7cc9bf7c461e9fd922c84ae3818b",
    "tags": [],
    "deepnote_to_be_reexecuted": false,
    "source_hash": "8d7f66dd",
    "execution_start": 1649971457338,
    "execution_millis": 5,
    "owner_user_id": "4d3f23e7-bada-4753-a3a9-c9454cef029f",
    "deepnote_cell_type": "code",
    "deepnote_cell_height": 81
   },
   "outputs": [],
   "execution_count": 23
  },
  {
   "cell_type": "markdown",
   "source": "<a style='text-decoration:none;line-height:16px;display:flex;color:#5B5B62;padding:10px;justify-content:end;' href='https://deepnote.com?utm_source=created-in-deepnote-cell&projectId=11aa9c8d-c07d-4c7a-bc6b-befbdcf85047' target=\"_blank\">\n<img alt='Created in deepnote.com' style='display:inline;max-height:16px;margin:0px;margin-right:7.5px;' src='data:image/svg+xml;base64,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' > </img>\nCreated in <span style='font-weight:600;margin-left:4px;'>Deepnote</span></a>",
   "metadata": {
    "tags": [],
    "created_in_deepnote_cell": true,
    "deepnote_cell_type": "markdown"
   }
  }
 ],
 "nbformat": 4,
 "nbformat_minor": 2,
 "metadata": {
  "orig_nbformat": 2,
  "deepnote": {
   "is_reactive": false
  },
  "deepnote_notebook_id": "f3751cf9-e48e-421d-b1ed-7ab5ea8879a9",
  "deepnote_execution_queue": []
 }
}