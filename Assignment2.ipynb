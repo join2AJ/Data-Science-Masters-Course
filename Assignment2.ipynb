{
 "cells": [
  {
   "cell_type": "code",
   "metadata": {
    "tags": [],
    "deepnote_to_be_reexecuted": false,
    "source_hash": "b1a05b24",
    "execution_start": 1649971449459,
    "execution_millis": 3,
    "cell_id": "ef5e95f7-9b19-41c4-b4a5-94adcd604574",
    "deepnote_cell_type": "code",
    "deepnote_cell_height": 81
   },
   "source": "#-----Start",
   "execution_count": 22,
   "outputs": []
  },
  {
   "cell_type": "markdown",
   "source": "1.What are the two values of the Boolean data type? How do you write them?",
   "metadata": {
    "tags": [],
    "is_collapsed": false,
    "cell_id": "00002-cc64c02f-b662-47a9-b685-c992cc98c3d7",
    "deepnote_cell_type": "text-cell-p"
   }
  },
  {
   "cell_type": "code",
   "source": "# True [1] and False [0]",
   "metadata": {
    "cell_id": "5174421b88714ce389e34d1704ed671a",
    "tags": [],
    "deepnote_to_be_reexecuted": false,
    "source_hash": "2ef85cae",
    "execution_start": 1649974163430,
    "execution_millis": 1,
    "deepnote_cell_type": "code",
    "deepnote_cell_height": 81
   },
   "outputs": [],
   "execution_count": 25
  },
  {
   "cell_type": "markdown",
   "source": "2. What are the three different types of Boolean operators?",
   "metadata": {
    "cell_id": "d1ba0df7e59d408991fd88516aa5d842",
    "tags": [],
    "is_collapsed": false,
    "deepnote_cell_type": "text-cell-p"
   }
  },
  {
   "cell_type": "code",
   "source": "# AND, OR, NOT",
   "metadata": {
    "cell_id": "57c60122b0f34ef4aec50add59d63e25",
    "tags": [],
    "deepnote_to_be_reexecuted": false,
    "source_hash": "11d77b2f",
    "execution_start": 1649974175135,
    "execution_millis": 6,
    "deepnote_cell_type": "code",
    "deepnote_cell_height": 81
   },
   "outputs": [],
   "execution_count": 26
  },
  {
   "cell_type": "markdown",
   "source": "3. Make a list of each Boolean operator's truth tables (i.e. every possible combination of Boolean values for the operator and what it evaluate ).",
   "metadata": {
    "cell_id": "f6f9a057b90f49b48b1f4aaf16a92732",
    "tags": [],
    "is_collapsed": false,
    "deepnote_cell_type": "text-cell-p"
   }
  },
  {
   "cell_type": "code",
   "source": "# ---\n\n# and\n# val1     operator    val2     Result\n# False      and       False    False\n# False      and       True     False\n# True       and       False    False\n# True       and       True     True\n\n# or\n# val1     operator    val2     Result\n# False      or        False    False\n# False      or        True     True\n# True       or        False    True\n# True       or        True     True\n\n# not\n# val1     operator    val2     Result\n# False      not       False    True\n# False      not       True     True\n# True       not       False    True\n# True       not       True     False",
   "metadata": {
    "cell_id": "fe2bb1094b544435adfc9810e4f863cd",
    "tags": [],
    "deepnote_to_be_reexecuted": false,
    "source_hash": "73235f54",
    "execution_start": 1649972822480,
    "execution_millis": 3,
    "deepnote_cell_type": "code",
    "deepnote_cell_height": 459
   },
   "outputs": [],
   "execution_count": 2
  },
  {
   "cell_type": "markdown",
   "source": "4. What are the values of the following expressions?(5 &gt; 4) and (3 == 5)not (5 &gt; 4)(5 &gt; 4) or (3 == 5)not ((5 &gt; 4) or (3 == 5))(True and True) and (True == False)(not False) or (not True)",
   "metadata": {
    "cell_id": "e5447ae356cc46d9a391ce2638e2149e",
    "tags": [],
    "is_collapsed": false,
    "deepnote_cell_type": "text-cell-p"
   }
  },
  {
   "cell_type": "code",
   "source": "# (5 > 4) and (3 == 5)\n# not (5 > 4)\n# (5 > 4) or (3 == 5)\n# not ((5 > 4) or (3 == 5))\n# (True and True) and (True == False)\n# (not False) or (not True)\n\nprint(\"4.1\",(5 > 4) and (3 == 5))\nprint(\"4.2\",not (5 > 4))\nprint(\"4.3\",(5 > 4) or (3 == 5))\nprint(\"4.4\",not ((5 > 4) or (3 == 5)))\nprint(\"4.5\",(True and True) and (True == False))\nprint(\"4.6\",(not False) or (not True))",
   "metadata": {
    "cell_id": "e56a3cc7b1954131b59073646545b707",
    "tags": [],
    "deepnote_to_be_reexecuted": false,
    "source_hash": "5039d258",
    "execution_start": 1649973115462,
    "execution_millis": 2,
    "deepnote_cell_type": "code",
    "deepnote_cell_height": 429.125
   },
   "outputs": [
    {
     "name": "stdout",
     "text": "4.1 False\n4.2 False\n4.3 True\n4.4 False\n4.5 False\n4.6 True\n",
     "output_type": "stream"
    }
   ],
   "execution_count": 8
  },
  {
   "cell_type": "markdown",
   "source": "5. What are the six comparison operators?",
   "metadata": {
    "cell_id": "511d119d493e40958779d654e82e4974",
    "tags": [],
    "is_collapsed": false,
    "deepnote_cell_type": "text-cell-p"
   }
  },
  {
   "cell_type": "code",
   "source": "# There are six main comparison operators: \n\n# 1. equal to, =\n# 2. not equal to, !=\n# 3. greater than, >\n# 4. greater than or equal to, >=\n# 5. less than, <\n# 6. less than or equal to.<=",
   "metadata": {
    "cell_id": "75ec0e2282974ea1b536a73da05a9028",
    "tags": [],
    "deepnote_to_be_reexecuted": false,
    "source_hash": "9eb198f5",
    "execution_start": 1649973269840,
    "execution_millis": 1,
    "deepnote_cell_type": "code",
    "deepnote_cell_height": 207
   },
   "outputs": [],
   "execution_count": 10
  },
  {
   "cell_type": "markdown",
   "source": "6. How do you tell the difference between the equal to and assignment operators?Describe a condition and when you would use one.",
   "metadata": {
    "cell_id": "e52954b458064dc0a753afe27ac114ef",
    "tags": [],
    "is_collapsed": false,
    "deepnote_cell_type": "text-cell-p"
   }
  },
  {
   "cell_type": "code",
   "source": "# double equal to used in if statement known as comparision operator \n# single equal to is an assignment operator\n\n# variable_initilazation = 10 [equal to as a assignment operator]\n# if (variable_initilazation == 10) [equal to as a comparision operator]",
   "metadata": {
    "cell_id": "daff7ca0e2e14e32981e40426f33756c",
    "tags": [],
    "deepnote_to_be_reexecuted": false,
    "source_hash": "c07fdda1",
    "execution_start": 1649974002954,
    "execution_millis": 1,
    "deepnote_cell_type": "code",
    "deepnote_cell_height": 153
   },
   "outputs": [],
   "execution_count": 21
  },
  {
   "cell_type": "markdown",
   "source": "7. Identify the three blocks in this code:spam = 0if spam == 10:print('eggs')if spam &gt; 5:print('bacon')else:print('ham')print('spam')print('spam')",
   "metadata": {
    "cell_id": "4c2cd3bc93e747558b75e996a075e8e7",
    "tags": [],
    "is_collapsed": false,
    "deepnote_cell_type": "text-cell-p"
   }
  },
  {
   "cell_type": "code",
   "source": "spam = 0\n\n#First block\nif spam == 10:\n    print(eggs)\n\n#Second block\nif spam > 5:\n    print(bacon)\nelse:\n    print('ham')\n\n#Third block\nprint('spam')\nprint('spam')",
   "metadata": {
    "cell_id": "49caf0ba451f4d12b84af46bdd8bb401",
    "tags": [],
    "deepnote_to_be_reexecuted": false,
    "source_hash": "875f39fd",
    "execution_start": 1649973703324,
    "execution_millis": 9,
    "deepnote_cell_type": "code",
    "deepnote_cell_height": 404.5625
   },
   "outputs": [
    {
     "name": "stdout",
     "text": "ham\nspam\nspam\n",
     "output_type": "stream"
    }
   ],
   "execution_count": 14
  },
  {
   "cell_type": "markdown",
   "source": "8. Write code that prints Hello if 1 is stored in spam, prints Howdy if 2 is stored in spam, and prints Greetings! if anything else is stored in spam.",
   "metadata": {
    "cell_id": "868e5e049eee49f7863bdff67b3b8aeb",
    "tags": [],
    "is_collapsed": false,
    "deepnote_cell_type": "text-cell-p"
   }
  },
  {
   "cell_type": "code",
   "source": "spam=10\nif (spam==1):\n    print(\"Hello\")\nelif (spam == 2):\n    print(\"Howdy\")\nelse:\n    print(\"Greetings!\")",
   "metadata": {
    "cell_id": "cea8a22a1d2a4ca08a7a1a8cc07f12ea",
    "tags": [],
    "deepnote_to_be_reexecuted": false,
    "source_hash": "3b34b38d",
    "execution_start": 1649973914420,
    "execution_millis": 603,
    "deepnote_cell_type": "code",
    "deepnote_cell_height": 220.1875
   },
   "outputs": [
    {
     "name": "stdout",
     "text": "Greetings!\n",
     "output_type": "stream"
    }
   ],
   "execution_count": 20
  },
  {
   "cell_type": "markdown",
   "source": "9.If your programme is stuck in an endless loop, what keys you’ll press?",
   "metadata": {
    "cell_id": "44cd79b842854f15a34cdc57afe49f12",
    "tags": [],
    "is_collapsed": false,
    "deepnote_cell_type": "text-cell-p"
   }
  },
  {
   "cell_type": "code",
   "source": "#Ctrl + C",
   "metadata": {
    "cell_id": "25b089d7a78849e0b68c016c01e58792",
    "tags": [],
    "deepnote_to_be_reexecuted": false,
    "source_hash": "f7795fe3",
    "execution_start": 1649974059782,
    "execution_millis": 1,
    "deepnote_cell_type": "code",
    "deepnote_cell_height": 81
   },
   "outputs": [],
   "execution_count": 22
  },
  {
   "cell_type": "markdown",
   "source": "10. How can you tell the difference between break and continue?",
   "metadata": {
    "cell_id": "5481577f77704180a23501c6858ff45f",
    "tags": [],
    "is_collapsed": false,
    "deepnote_cell_type": "text-cell-p"
   }
  },
  {
   "cell_type": "code",
   "source": "# break : break will stop current executnig loop\n# continue : continue will only skip given step",
   "metadata": {
    "cell_id": "2944d5b2ebd9416595978ebd844fe289",
    "tags": [],
    "deepnote_to_be_reexecuted": false,
    "source_hash": "a278e2a8",
    "execution_start": 1649974135774,
    "execution_millis": 1,
    "deepnote_cell_type": "code",
    "deepnote_cell_height": 99
   },
   "outputs": [],
   "execution_count": 24
  },
  {
   "cell_type": "markdown",
   "source": "11. In a for loop, what is the difference between range(10), range(0, 10), and range(0, 10, 1)?",
   "metadata": {
    "cell_id": "b958ddd9cc40485387a9d513a60bccc6",
    "tags": [],
    "is_collapsed": false,
    "deepnote_cell_type": "text-cell-p"
   }
  },
  {
   "cell_type": "code",
   "source": "# range(start, stop, step)\n# start : starting index value [Digit included]\n# stop : stopping index value [Digit Excluded]\n# Step : skipping count\n\n# range(10), range(0, 10), and range(0, 10, 1) will give same output\n\nfor i in range(0,10,1):\n    print(i)",
   "metadata": {
    "cell_id": "dcb7f8ebbb6a4a65b919b4d7247abdea",
    "tags": [],
    "deepnote_to_be_reexecuted": false,
    "source_hash": "3a43a13e",
    "execution_start": 1649974410431,
    "execution_millis": 10,
    "deepnote_cell_type": "code",
    "deepnote_cell_height": 437.875
   },
   "outputs": [
    {
     "name": "stdout",
     "text": "0\n1\n2\n3\n4\n5\n6\n7\n8\n9\n",
     "output_type": "stream"
    }
   ],
   "execution_count": 32
  },
  {
   "cell_type": "markdown",
   "source": "12. Write a short program that prints the numbers 1 to 10 using a for loop. Then write an equivalent program that prints the numbers 1 to 10 using a while loop.",
   "metadata": {
    "cell_id": "e4621e641d5b41d0bbe346d549059e1d",
    "tags": [],
    "is_collapsed": false,
    "deepnote_cell_type": "text-cell-p"
   }
  },
  {
   "cell_type": "code",
   "source": "for i in range(1,11):\n    print(i)",
   "metadata": {
    "cell_id": "d350387bcd8a4e8c9f65e9fda87af143",
    "tags": [],
    "deepnote_to_be_reexecuted": false,
    "source_hash": "cc8af864",
    "execution_start": 1649974424101,
    "execution_millis": 5,
    "deepnote_cell_type": "code",
    "deepnote_cell_height": 311.875
   },
   "outputs": [
    {
     "name": "stdout",
     "text": "1\n2\n3\n4\n5\n6\n7\n8\n9\n10\n",
     "output_type": "stream"
    }
   ],
   "execution_count": 33
  },
  {
   "cell_type": "code",
   "source": "i=1\nwhile(i<11):\n    print(i)\n    i=i+1",
   "metadata": {
    "cell_id": "f3921c218eb342eba6463fe33d7125e9",
    "tags": [],
    "deepnote_to_be_reexecuted": false,
    "source_hash": "1b1545cf",
    "execution_start": 1649974565324,
    "execution_millis": 42,
    "deepnote_cell_type": "code",
    "deepnote_cell_height": 347.875
   },
   "outputs": [
    {
     "name": "stdout",
     "text": "1\n2\n3\n4\n5\n6\n7\n8\n9\n10\n",
     "output_type": "stream"
    }
   ],
   "execution_count": 36
  },
  {
   "cell_type": "markdown",
   "source": "13. If you had a function named bacon() inside a module named spam, how would you call it after importing spam?",
   "metadata": {
    "cell_id": "c34986272e854347af570647c8e3c32b",
    "tags": [],
    "is_collapsed": false,
    "owner_user_id": "4d3f23e7-bada-4753-a3a9-c9454cef029f",
    "deepnote_cell_type": "text-cell-p"
   }
  },
  {
   "cell_type": "code",
   "source": "# spam.bacon()",
   "metadata": {
    "cell_id": "67ae9f1ab0cf4b84b193d5678f4bb83e",
    "tags": [],
    "deepnote_to_be_reexecuted": false,
    "source_hash": "3b6996d0",
    "execution_start": 1649974662639,
    "execution_millis": 2,
    "deepnote_cell_type": "code",
    "deepnote_cell_height": 81
   },
   "outputs": [],
   "execution_count": 37
  },
  {
   "cell_type": "code",
   "metadata": {
    "tags": [],
    "deepnote_to_be_reexecuted": false,
    "source_hash": "8d7f66dd",
    "execution_start": 1649971457338,
    "execution_millis": 5,
    "cell_id": "00036-1fac2321-3615-470b-9574-969a614150a5",
    "deepnote_cell_type": "code",
    "deepnote_cell_height": 81
   },
   "source": "#-----End",
   "execution_count": 23,
   "outputs": []
  },
  {
   "cell_type": "markdown",
   "source": "<a style='text-decoration:none;line-height:16px;display:flex;color:#5B5B62;padding:10px;justify-content:end;' href='https://deepnote.com?utm_source=created-in-deepnote-cell&projectId=11aa9c8d-c07d-4c7a-bc6b-befbdcf85047' target=\"_blank\">\n<img alt='Created in deepnote.com' style='display:inline;max-height:16px;margin:0px;margin-right:7.5px;' src='data:image/svg+xml;base64,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' > </img>\nCreated in <span style='font-weight:600;margin-left:4px;'>Deepnote</span></a>",
   "metadata": {
    "tags": [],
    "created_in_deepnote_cell": true,
    "deepnote_cell_type": "markdown"
   }
  }
 ],
 "nbformat": 4,
 "nbformat_minor": 2,
 "metadata": {
  "orig_nbformat": 2,
  "deepnote": {
   "is_reactive": false
  },
  "deepnote_notebook_id": "26532371-529f-4f9e-908a-a1313ba24ea8",
  "deepnote_execution_queue": []
 }
}