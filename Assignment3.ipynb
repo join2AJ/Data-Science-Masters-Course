{
 "cells": [
  {
   "cell_type": "code",
   "metadata": {
    "tags": [],
    "deepnote_to_be_reexecuted": false,
    "source_hash": "8b17064a",
    "execution_start": 1649975080384,
    "execution_millis": 4,
    "cell_id": "ab11d5e5-7515-4694-ba09-77414650397b",
    "deepnote_cell_type": "code",
    "deepnote_cell_height": 99
   },
   "source": "#-----Start\n#Assignment-3",
   "execution_count": 1,
   "outputs": []
  },
  {
   "cell_type": "markdown",
   "source": "1. Why are functions advantageous to have in your programs?",
   "metadata": {
    "tags": [],
    "is_collapsed": false,
    "cell_id": "00001-ac7665de-614e-4269-b474-4a15722d9b80",
    "deepnote_cell_type": "text-cell-p"
   }
  },
  {
   "cell_type": "code",
   "metadata": {
    "tags": [],
    "deepnote_to_be_reexecuted": false,
    "source_hash": "232450f8",
    "execution_start": 1649975444240,
    "execution_millis": 1,
    "cell_id": "00002-bc513d90-fcce-4bce-bafd-a45b4b6b406b",
    "deepnote_cell_type": "code",
    "deepnote_cell_height": 81
   },
   "source": "# Functions reduces duplicacy of code and maked program shorter and easier to work with",
   "execution_count": 2,
   "outputs": []
  },
  {
   "cell_type": "markdown",
   "source": "2. When does the code in a function run: when it's specified or when it's called?",
   "metadata": {
    "tags": [],
    "is_collapsed": false,
    "cell_id": "00003-8754241f-4149-485c-98ed-9507d87beddb",
    "deepnote_cell_type": "text-cell-p"
   }
  },
  {
   "cell_type": "code",
   "metadata": {
    "tags": [],
    "deepnote_to_be_reexecuted": false,
    "source_hash": "434a1525",
    "execution_start": 1649975480820,
    "execution_millis": 1,
    "cell_id": "00004-705d9801-51b1-431e-acef-1d87ee69440f",
    "deepnote_cell_type": "code",
    "deepnote_cell_height": 81
   },
   "source": "# The code executes when the function is called",
   "execution_count": 3,
   "outputs": []
  },
  {
   "cell_type": "markdown",
   "source": "3. What statement creates a function?",
   "metadata": {
    "tags": [],
    "is_collapsed": false,
    "cell_id": "00005-50814fd7-81a8-45eb-9c6a-bf3e25bdb7bc",
    "deepnote_cell_type": "text-cell-p"
   }
  },
  {
   "cell_type": "code",
   "metadata": {
    "tags": [],
    "deepnote_to_be_reexecuted": false,
    "source_hash": "2ab2119c",
    "execution_start": 1649975938819,
    "execution_millis": 3,
    "cell_id": "00006-229890d3-a571-4d77-91d2-2a89fbf0a5aa",
    "deepnote_cell_type": "code",
    "deepnote_cell_height": 135
   },
   "source": "# The def statement defines a function\n\ndef new_fun():\n    print(\"New Function has been called!\")",
   "execution_count": 10,
   "outputs": []
  },
  {
   "cell_type": "markdown",
   "source": "4. What is the difference between a function and a function call?",
   "metadata": {
    "tags": [],
    "is_collapsed": false,
    "cell_id": "00007-247d4522-141e-4a13-a83e-7c4c3bdf4a31",
    "deepnote_cell_type": "text-cell-p"
   }
  },
  {
   "cell_type": "code",
   "metadata": {
    "tags": [],
    "deepnote_to_be_reexecuted": false,
    "source_hash": "f75e65b8",
    "execution_start": 1649975939918,
    "execution_millis": 604,
    "cell_id": "00008-c80dec55-d59b-4ed6-bfd1-bcb3f93cda85",
    "deepnote_cell_type": "code",
    "deepnote_cell_height": 202.1875
   },
   "source": "# Function refers to function body and elements [look above code]\n# whereas function call is made when the elements of a function needs to be executed,\n# a function may or may not returns a value\n\n#Function call\nnew_fun()",
   "execution_count": 11,
   "outputs": [
    {
     "name": "stdout",
     "text": "New Function has been called!\n",
     "output_type": "stream"
    }
   ]
  },
  {
   "cell_type": "markdown",
   "source": "5. How many global scopes are there in a Python program? How many local scopes?",
   "metadata": {
    "tags": [],
    "is_collapsed": false,
    "cell_id": "00009-607efd12-570d-42d8-b2f7-9af9c7f65a05",
    "deepnote_cell_type": "text-cell-p"
   }
  },
  {
   "cell_type": "code",
   "metadata": {
    "tags": [],
    "deepnote_to_be_reexecuted": false,
    "source_hash": "35b91e9b",
    "execution_start": 1649975998169,
    "execution_millis": 0,
    "cell_id": "00010-c44e2e6e-96c7-45ff-b97a-d2b0ea39b2c4",
    "deepnote_cell_type": "code",
    "deepnote_cell_height": 99
   },
   "source": "# There is one global scope, and \n# local scope is created whenever a function is called",
   "execution_count": 13,
   "outputs": []
  },
  {
   "cell_type": "markdown",
   "source": "6. What happens to variables in a local scope when the function call returns?",
   "metadata": {
    "tags": [],
    "is_collapsed": false,
    "cell_id": "00011-badc9c50-3f3b-413f-8d65-2efea7cf2e50",
    "deepnote_cell_type": "text-cell-p"
   }
  },
  {
   "cell_type": "code",
   "metadata": {
    "tags": [],
    "deepnote_to_be_reexecuted": false,
    "source_hash": "3a529c7",
    "execution_start": 1649976109057,
    "execution_millis": 1,
    "cell_id": "00012-ad90da71-45df-4b9b-9bcd-8e651a055aa5",
    "deepnote_cell_type": "code",
    "deepnote_cell_height": 99
   },
   "source": "# Whenever function returns, local variables of that function get destroyed \n# and resources taken by them are then realeased",
   "execution_count": 15,
   "outputs": []
  },
  {
   "cell_type": "markdown",
   "source": "7. What is the concept of a return value? Is it possible to have a return value in an expression?",
   "metadata": {
    "tags": [],
    "is_collapsed": false,
    "cell_id": "00013-5f93dd78-3f75-45ec-9b8c-1bb7aa84d995",
    "deepnote_cell_type": "text-cell-p"
   }
  },
  {
   "cell_type": "code",
   "metadata": {
    "tags": [],
    "deepnote_to_be_reexecuted": false,
    "source_hash": "2b58343c",
    "execution_start": 1649976184122,
    "execution_millis": 0,
    "cell_id": "00014-e244eb67-2d8a-4e9a-b54a-e31a81967954",
    "deepnote_cell_type": "code",
    "deepnote_cell_height": 99
   },
   "source": "# A return value is the value that a function call evaluates to\n# It can be used as part of an expression",
   "execution_count": 16,
   "outputs": []
  },
  {
   "cell_type": "markdown",
   "source": "8. If a function does not have a return statement, what is the return value of a call to that function?",
   "metadata": {
    "tags": [],
    "is_collapsed": false,
    "cell_id": "00015-ccb50716-1e2e-4e80-8019-9287e5182c6f",
    "deepnote_cell_type": "text-cell-p"
   }
  },
  {
   "cell_type": "code",
   "metadata": {
    "tags": [],
    "deepnote_to_be_reexecuted": false,
    "source_hash": "39875cdd",
    "execution_start": 1649976239406,
    "execution_millis": 1,
    "cell_id": "00016-d045411d-dcff-47dd-ab3a-d459399a214d",
    "deepnote_cell_type": "code",
    "deepnote_cell_height": 81
   },
   "source": "# None",
   "execution_count": 17,
   "outputs": []
  },
  {
   "cell_type": "markdown",
   "source": "9. How do you make a function variable refer to the global variable?",
   "metadata": {
    "tags": [],
    "is_collapsed": false,
    "cell_id": "00017-9aa3afe2-2815-47ca-85de-d378fe3031fa",
    "deepnote_cell_type": "text-cell-p"
   }
  },
  {
   "cell_type": "code",
   "metadata": {
    "tags": [],
    "deepnote_to_be_reexecuted": false,
    "source_hash": "de3ec373",
    "execution_start": 1649976367078,
    "execution_millis": 5,
    "cell_id": "00018-8d392a07-1080-4b56-abd3-8efaac5d6a39",
    "deepnote_cell_type": "code",
    "deepnote_cell_height": 117
   },
   "source": "# By declearing it as a global variable\nglobal new_variable\n",
   "execution_count": 18,
   "outputs": []
  },
  {
   "cell_type": "markdown",
   "source": "10. What is the data type of None?",
   "metadata": {
    "tags": [],
    "is_collapsed": false,
    "cell_id": "00019-01b49fb0-cbbc-427f-8c64-d22af8cb1f4a",
    "deepnote_cell_type": "text-cell-p"
   }
  },
  {
   "cell_type": "code",
   "metadata": {
    "tags": [],
    "deepnote_to_be_reexecuted": false,
    "source_hash": "a278e2a8",
    "execution_start": 1649974135774,
    "execution_millis": 1,
    "cell_id": "00020-cbce881a-7cec-4517-b1f6-263de4db21f9",
    "deepnote_cell_type": "code",
    "deepnote_cell_height": 81
   },
   "source": "# NoneType",
   "execution_count": 24,
   "outputs": []
  },
  {
   "cell_type": "markdown",
   "source": "11. What does the sentence import areallyourpetsnamederic do?",
   "metadata": {
    "tags": [],
    "is_collapsed": false,
    "cell_id": "00021-1bf4023a-4d1d-4710-a7bb-146005f99460",
    "deepnote_cell_type": "text-cell-p"
   }
  },
  {
   "cell_type": "code",
   "metadata": {
    "tags": [],
    "deepnote_to_be_reexecuted": false,
    "source_hash": "8b2270ee",
    "execution_start": 1649976448839,
    "execution_millis": 5,
    "cell_id": "00022-a8bb5e68-1331-49c3-8b68-295fe851906b",
    "deepnote_cell_type": "code",
    "deepnote_cell_height": 81
   },
   "source": "# It imports a module named areallyourpetsnamederic",
   "execution_count": 20,
   "outputs": []
  },
  {
   "cell_type": "markdown",
   "source": "12. If you had a bacon() feature in a spam module, what would you call it after importing spam?",
   "metadata": {
    "tags": [],
    "is_collapsed": false,
    "cell_id": "00023-c31ccc7a-c712-4909-9098-3f83881aa50f",
    "deepnote_cell_type": "text-cell-p"
   }
  },
  {
   "cell_type": "code",
   "metadata": {
    "tags": [],
    "deepnote_to_be_reexecuted": false,
    "source_hash": "79ed4419",
    "execution_start": 1649976534019,
    "execution_millis": 2,
    "cell_id": "00024-9e3b9fe4-b5e8-4045-a72e-ae2b9c3bff0e",
    "deepnote_cell_type": "code",
    "deepnote_cell_height": 117
   },
   "source": "# spam.bacon()\n\n#! The question was in 2nd Assignment",
   "execution_count": 22,
   "outputs": []
  },
  {
   "cell_type": "markdown",
   "source": "13. What can you do to save a programme from crashing if it encounters an error?",
   "metadata": {
    "tags": [],
    "is_collapsed": false,
    "cell_id": "00026-037d2dff-a8bd-4926-b0c8-32db3f5762ae",
    "deepnote_cell_type": "text-cell-p"
   }
  },
  {
   "cell_type": "code",
   "metadata": {
    "tags": [],
    "deepnote_to_be_reexecuted": false,
    "source_hash": "3f25e25",
    "execution_start": 1649976603362,
    "execution_millis": 0,
    "cell_id": "00027-16e572a7-36a7-4250-91ce-355983acbade",
    "deepnote_cell_type": "code",
    "deepnote_cell_height": 81
   },
   "source": "# Put crashing code inside a try clause",
   "execution_count": 24,
   "outputs": []
  },
  {
   "cell_type": "markdown",
   "source": "14. What is the purpose of the try clause? What is the purpose of the except clause?",
   "metadata": {
    "cell_id": "b73c4b9fa9bd432db141d142e2a264d9",
    "tags": [],
    "is_collapsed": false,
    "deepnote_cell_type": "text-cell-p"
   }
  },
  {
   "cell_type": "code",
   "source": "# The code which can cause error is written inside try clause to prevent program from crashing\n# If an error occurs then except clause catches that error and display given or assigned output",
   "metadata": {
    "cell_id": "abccd77c8675456097064fdd5d935185",
    "tags": [],
    "deepnote_to_be_reexecuted": false,
    "source_hash": "8a99c880",
    "execution_start": 1649976759914,
    "execution_millis": 0,
    "deepnote_cell_type": "code",
    "deepnote_cell_height": 84
   },
   "outputs": [],
   "execution_count": 25
  },
  {
   "cell_type": "code",
   "metadata": {
    "tags": [],
    "deepnote_to_be_reexecuted": false,
    "source_hash": "8d7f66dd",
    "execution_start": 1649971457338,
    "execution_millis": 5,
    "cell_id": "00028-ba0e63ec-264c-44cc-8c5e-8cd456c49932",
    "owner_user_id": "4d3f23e7-bada-4753-a3a9-c9454cef029f",
    "deepnote_cell_type": "code",
    "deepnote_cell_height": 81
   },
   "source": "#-----End",
   "execution_count": 23,
   "outputs": []
  },
  {
   "cell_type": "markdown",
   "source": "<a style='text-decoration:none;line-height:16px;display:flex;color:#5B5B62;padding:10px;justify-content:end;' href='https://deepnote.com?utm_source=created-in-deepnote-cell&projectId=11aa9c8d-c07d-4c7a-bc6b-befbdcf85047' target=\"_blank\">\n<img alt='Created in deepnote.com' style='display:inline;max-height:16px;margin:0px;margin-right:7.5px;' src='data:image/svg+xml;base64,PD94bWwgdmVyc2lvbj0iMS4wIiBlbmNvZGluZz0iVVRGLTgiPz4KPHN2ZyB3aWR0aD0iODBweCIgaGVpZ2h0PSI4MHB4IiB2aWV3Qm94PSIwIDAgODAgODAiIHZlcnNpb249IjEuMSIgeG1sbnM9Imh0dHA6Ly93d3cudzMub3JnLzIwMDAvc3ZnIiB4bWxuczp4bGluaz0iaHR0cDovL3d3dy53My5vcmcvMTk5OS94bGluayI+CiAgICA8IS0tIEdlbmVyYXRvcjogU2tldGNoIDU0LjEgKDc2NDkwKSAtIGh0dHBzOi8vc2tldGNoYXBwLmNvbSAtLT4KICAgIDx0aXRsZT5Hcm91cCAzPC90aXRsZT4KICAgIDxkZXNjPkNyZWF0ZWQgd2l0aCBTa2V0Y2guPC9kZXNjPgogICAgPGcgaWQ9IkxhbmRpbmciIHN0cm9rZT0ibm9uZSIgc3Ryb2tlLXdpZHRoPSIxIiBmaWxsPSJub25lIiBmaWxsLXJ1bGU9ImV2ZW5vZGQiPgogICAgICAgIDxnIGlkPSJBcnRib2FyZCIgdHJhbnNmb3JtPSJ0cmFuc2xhdGUoLTEyMzUuMDAwMDAwLCAtNzkuMDAwMDAwKSI+CiAgICAgICAgICAgIDxnIGlkPSJHcm91cC0zIiB0cmFuc2Zvcm09InRyYW5zbGF0ZSgxMjM1LjAwMDAwMCwgNzkuMDAwMDAwKSI+CiAgICAgICAgICAgICAgICA8cG9seWdvbiBpZD0iUGF0aC0yMCIgZmlsbD0iIzAyNjVCNCIgcG9pbnRzPSIyLjM3NjIzNzYyIDgwIDM4LjA0NzY2NjcgODAgNTcuODIxNzgyMiA3My44MDU3NTkyIDU3LjgyMTc4MjIgMzIuNzU5MjczOSAzOS4xNDAyMjc4IDMxLjY4MzE2ODMiPjwvcG9seWdvbj4KICAgICAgICAgICAgICAgIDxwYXRoIGQ9Ik0zNS4wMDc3MTgsODAgQzQyLjkwNjIwMDcsNzYuNDU0OTM1OCA0Ny41NjQ5MTY3LDcxLjU0MjI2NzEgNDguOTgzODY2LDY1LjI2MTk5MzkgQzUxLjExMjI4OTksNTUuODQxNTg0MiA0MS42NzcxNzk1LDQ5LjIxMjIyODQgMjUuNjIzOTg0Niw0OS4yMTIyMjg0IEMyNS40ODQ5Mjg5LDQ5LjEyNjg0NDggMjkuODI2MTI5Niw0My4yODM4MjQ4IDM4LjY0NzU4NjksMzEuNjgzMTY4MyBMNzIuODcxMjg3MSwzMi41NTQ0MjUgTDY1LjI4MDk3Myw2Ny42NzYzNDIxIEw1MS4xMTIyODk5LDc3LjM3NjE0NCBMMzUuMDA3NzE4LDgwIFoiIGlkPSJQYXRoLTIyIiBmaWxsPSIjMDAyODY4Ij48L3BhdGg+CiAgICAgICAgICAgICAgICA8cGF0aCBkPSJNMCwzNy43MzA0NDA1IEwyNy4xMTQ1MzcsMC4yNTcxMTE0MzYgQzYyLjM3MTUxMjMsLTEuOTkwNzE3MDEgODAsMTAuNTAwMzkyNyA4MCwzNy43MzA0NDA1IEM4MCw2NC45NjA0ODgyIDY0Ljc3NjUwMzgsNzkuMDUwMzQxNCAzNC4zMjk1MTEzLDgwIEM0Ny4wNTUzNDg5LDc3LjU2NzA4MDggNTMuNDE4MjY3Nyw3MC4zMTM2MTAzIDUzLjQxODI2NzcsNTguMjM5NTg4NSBDNTMuNDE4MjY3Nyw0MC4xMjg1NTU3IDM2LjMwMzk1NDQsMzcuNzMwNDQwNSAyNS4yMjc0MTcsMzcuNzMwNDQwNSBDMTcuODQzMDU4NiwzNy43MzA0NDA1IDkuNDMzOTE5NjYsMzcuNzMwNDQwNSAwLDM3LjczMDQ0MDUgWiIgaWQ9IlBhdGgtMTkiIGZpbGw9IiMzNzkzRUYiPjwvcGF0aD4KICAgICAgICAgICAgPC9nPgogICAgICAgIDwvZz4KICAgIDwvZz4KPC9zdmc+' > </img>\nCreated in <span style='font-weight:600;margin-left:4px;'>Deepnote</span></a>",
   "metadata": {
    "tags": [],
    "created_in_deepnote_cell": true,
    "deepnote_cell_type": "markdown"
   }
  }
 ],
 "nbformat": 4,
 "nbformat_minor": 2,
 "metadata": {
  "orig_nbformat": 2,
  "deepnote": {
   "is_reactive": false
  },
  "deepnote_notebook_id": "ba85c28c-11e2-4649-a629-09359cb9e86b",
  "deepnote_execution_queue": []
 }
}